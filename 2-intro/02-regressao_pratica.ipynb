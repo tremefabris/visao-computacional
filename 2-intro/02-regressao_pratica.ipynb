{
 "cells": [
  {
   "cell_type": "markdown",
   "metadata": {},
   "source": [
    "# Diferenciação automática"
   ]
  },
  {
   "cell_type": "code",
   "execution_count": 1,
   "metadata": {},
   "outputs": [],
   "source": [
    "import torch"
   ]
  },
  {
   "cell_type": "code",
   "execution_count": 2,
   "metadata": {},
   "outputs": [
    {
     "name": "stdout",
     "output_type": "stream",
     "text": [
      "torch.float32\n",
      "tensor(4., grad_fn=<MulBackward0>)\n",
      "tensor(8.)\n"
     ]
    }
   ],
   "source": [
    "x = torch.tensor(1., requires_grad=True)\n",
    "print(x.dtype)\n",
    "y = 4*x**2\n",
    "print(y)\n",
    "y.backward()\n",
    "dydx = x.grad\n",
    "print(dydx)"
   ]
  },
  {
   "cell_type": "code",
   "execution_count": 3,
   "metadata": {},
   "outputs": [
    {
     "name": "stdout",
     "output_type": "stream",
     "text": [
      "[tensor(3.), tensor(3.4444), tensor(3.), tensor(-0.3333)]\n"
     ]
    }
   ],
   "source": [
    "def function(x1, x2, x3, x4):\n",
    "    y = x1*x2 + x3*x2 - x4/x2\n",
    "    return y\n",
    "\n",
    "def gradient(y, x1, x2, x3, x4):\n",
    "    y.backward()\n",
    "    grad = [x1.grad, x2.grad, x3.grad, x4.grad]\n",
    "\n",
    "    return grad\n",
    "x1 = torch.tensor(2., requires_grad=True)\n",
    "x2 = torch.tensor(3., requires_grad=True)\n",
    "x3 = torch.tensor(1., requires_grad=True)\n",
    "x4 = torch.tensor(4., requires_grad=True)\n",
    "y = function(x1, x2, x3, x4)\n",
    "grad = gradient(y, x1, x2, x3, x4)\n",
    "print(grad)"
   ]
  },
  {
   "cell_type": "markdown",
   "metadata": {},
   "source": [
    "O método .backward() calcula o gradiente da variavel y em relação as variaveis:\n",
    "\n",
    "1. a variavel foi utilizada para calcular o valor de y\n",
    "2. a variavel possui o atributo requires_grad\n",
    "3. a variavel é folha do grafo de computação\n",
    "\n",
    "variavel Folha significa que a variavel não foi definida com valores de outras variaveis"
   ]
  },
  {
   "cell_type": "code",
   "execution_count": 4,
   "metadata": {},
   "outputs": [
    {
     "name": "stdout",
     "output_type": "stream",
     "text": [
      "tensor(82944.)\n",
      "tensor(6912.)\n"
     ]
    }
   ],
   "source": [
    "def y_func(x):\n",
    "    return 3*x**2\n",
    "\n",
    "def z_func(y):\n",
    "    return y**4\n",
    "\n",
    "x=torch.tensor(2., requires_grad=True)\n",
    "y = y_func(x)\n",
    "z = z_func(y)\n",
    "\n",
    "y.retain_grad()\n",
    "z.backward()\n",
    "\n",
    "print(x.grad)\n",
    "print(y.grad)"
   ]
  },
  {
   "cell_type": "code",
   "execution_count": 5,
   "metadata": {},
   "outputs": [
    {
     "name": "stdout",
     "output_type": "stream",
     "text": [
      "<MulBackward0 object at 0x7fd439b64910>\n",
      "tensor(5., requires_grad=True)\n",
      "tensor(2., requires_grad=True)\n"
     ]
    }
   ],
   "source": [
    "x = torch.tensor(2., requires_grad=True)\n",
    "y = torch.tensor(5., requires_grad=True)\n",
    "z = x*y\n",
    "\n",
    "print(z.grad_fn)\n",
    "print(z.grad_fn._saved_other)\n",
    "print(z.grad_fn._saved_self)"
   ]
  },
  {
   "cell_type": "markdown",
   "metadata": {},
   "source": [
    "## Detalhes importantes ao trabalhar com pytorch\n",
    "\n",
    "O pytorch sempre acumula gradientes"
   ]
  },
  {
   "cell_type": "code",
   "execution_count": 6,
   "metadata": {},
   "outputs": [
    {
     "name": "stdout",
     "output_type": "stream",
     "text": [
      "tensor(4.)\n",
      "tensor(7.)\n",
      "tensor(2.)\n",
      "tensor(8.)\n"
     ]
    }
   ],
   "source": [
    "w = torch.tensor(1., requires_grad=True)\n",
    "\n",
    "data = [4, 7, 2, 8]\n",
    "for x in data:\n",
    "    y = w*x\n",
    "    w.grad = None\n",
    "    y.backward()\n",
    "    print(w.grad)"
   ]
  },
  {
   "cell_type": "markdown",
   "metadata": {},
   "source": [
    "Modificando um tensor que requer gradiente"
   ]
  },
  {
   "cell_type": "code",
   "execution_count": 7,
   "metadata": {},
   "outputs": [],
   "source": [
    "w = torch.tensor(1., requires_grad=True)\n",
    "\n",
    "lr = 0.01\n",
    "data = [4, 7, 2, 8]\n",
    "for x in data:\n",
    "    y = w*x\n",
    "    w.grad = None\n",
    "    y.backward()\n",
    "    with torch.no_grad():\n",
    "        w -= w-lr*w.grad\n",
    "        "
   ]
  },
  {
   "cell_type": "markdown",
   "metadata": {},
   "source": [
    "Removendo um tensor do grafo de computação"
   ]
  },
  {
   "cell_type": "code",
   "execution_count": 8,
   "metadata": {},
   "outputs": [
    {
     "name": "stdout",
     "output_type": "stream",
     "text": [
      "tensor([0.9216, 0.9586, 0.0444, 0.5710, 0.3190, 0.9832, 0.2693, 0.0063, 0.8251,\n",
      "        0.7616, 0.9964, 0.4294, 0.2191, 0.8858, 0.0933, 0.1588, 0.8806, 0.3698,\n",
      "        0.7798, 0.7167, 0.7222, 0.8622, 0.1070, 0.0891, 0.3359, 0.1461, 0.5483,\n",
      "        0.3922, 0.4470, 0.9114, 0.0221, 0.7027, 0.3302, 0.9802, 0.0655, 0.5231,\n",
      "        0.3548, 0.7897, 0.4570, 0.5213, 0.9916, 0.4634, 0.1122, 0.2517, 0.8374,\n",
      "        0.0705, 0.0520, 0.4639, 0.3804, 0.8626, 0.2197, 0.9680, 0.7397, 0.7377,\n",
      "        0.2140, 0.6716, 0.0233, 0.9555, 0.3955, 0.8288, 0.7578, 0.9896, 0.4161,\n",
      "        0.7221, 0.0104, 0.0829, 0.5904, 0.1042, 0.8425, 0.1193, 0.2680, 0.5645,\n",
      "        0.0252, 0.3340, 0.1043, 0.0088, 0.3481, 0.5062, 0.2181, 0.6566, 0.1432,\n",
      "        0.2881, 0.4178, 0.9562, 0.3633, 0.4541, 0.2848, 0.9980, 0.4398, 0.9543,\n",
      "        0.1691, 0.6221, 0.8834, 0.1645, 0.6428, 0.2732, 0.4921, 0.4026, 0.1654,\n",
      "        0.7891])\n",
      "tensor([0.9216, 0.9586, 0.0444, 0.5710, 0.3190, 0.9832, 0.2693, 0.0063, 0.8251,\n",
      "        0.7616, 0.9964, 0.4294, 0.2191, 0.8858, 0.0933, 0.1588, 0.8806, 0.3698,\n",
      "        0.7798, 0.7167, 0.7222, 0.8622, 0.1070, 0.0891, 0.3359, 0.1461, 0.5483,\n",
      "        0.3922, 0.4470, 0.9114, 0.0221, 0.7027, 0.3302, 0.9802, 0.0655, 0.5231,\n",
      "        0.3548, 0.7897, 0.4570, 0.5213, 0.9916, 0.4634, 0.1122, 0.2517, 0.8374,\n",
      "        0.0705, 0.0520, 0.4639, 0.3804, 0.8626, 0.2197, 0.9680, 0.7397, 0.7377,\n",
      "        0.2140, 0.6716, 0.0233, 0.9555, 0.3955, 0.8288, 0.7578, 0.9896, 0.4161,\n",
      "        0.7221, 0.0104, 0.0829, 0.5904, 0.1042, 0.8425, 0.1193, 0.2680, 0.5645,\n",
      "        0.0252, 0.3340, 0.1043, 0.0088, 0.3481, 0.5062, 0.2181, 0.6566, 0.1432,\n",
      "        0.2881, 0.4178, 0.9562, 0.3633, 0.4541, 0.2848, 0.9980, 0.4398, 0.9543,\n",
      "        0.1691, 0.6221, 0.8834, 0.1645, 0.6428, 0.2732, 0.4921, 0.4026, 0.1654,\n",
      "        0.7891], requires_grad=True)\n"
     ]
    }
   ],
   "source": [
    "x=torch.rand(100, requires_grad=True)\n",
    "# Copia os valores do tensor\n",
    "# y = x.clone()\n",
    "\n",
    "# remove do grafo de computação\n",
    "#y = x.detach()\n",
    "\n",
    "# megazord\n",
    "y = x.detach().clone()\n",
    "print(y)\n",
    "y[0] = 100\n",
    "print(x)"
   ]
  },
  {
   "cell_type": "code",
   "execution_count": 9,
   "metadata": {},
   "outputs": [],
   "source": [
    "# transformando um tensor em vetor numpy\n",
    "xnew = x.detach().clone().numpy()"
   ]
  },
  {
   "cell_type": "code",
   "execution_count": 10,
   "metadata": {},
   "outputs": [],
   "source": [
    "# numpy -> torch\n",
    "\n",
    "xte = torch.from_numpy(xnew)"
   ]
  },
  {
   "cell_type": "markdown",
   "metadata": {},
   "source": [
    "# Regressão Linear Usando diferenciação automatica"
   ]
  },
  {
   "cell_type": "code",
   "execution_count": 12,
   "metadata": {},
   "outputs": [
    {
     "data": {
      "text/plain": [
       "[<matplotlib.lines.Line2D at 0x7fd438362e70>]"
      ]
     },
     "execution_count": 12,
     "metadata": {},
     "output_type": "execute_result"
    },
    {
     "data": {
      "image/png": "[encoded data removed]",
      "text/plain": [
       "<Figure size 640x480 with 1 Axes>"
      ]
     },
     "metadata": {},
     "output_type": "display_data"
    }
   ],
   "source": [
    "import numpy as np\n",
    "import matplotlib.pyplot as plt\n",
    "import torch\n",
    "\n",
    "class Model:\n",
    "\n",
    "    def __init__(self, a, b):\n",
    "        self.a = torch.tensor(a, requires_grad=True)\n",
    "        self.b = torch.tensor(b, requires_grad=True)\n",
    "\n",
    "    def __call__(self, x):\n",
    "        y = self.a*x + self.b\n",
    "        return y\n",
    "    \n",
    "def mse(model, x, y):\n",
    "    ym = model(x)\n",
    "    error = torch.mean((y-ym)**2)\n",
    "\n",
    "    return error\n",
    "\n",
    "\n",
    "def step(model, x, y, lr):\n",
    "    error = mse(model, x, y)\n",
    "    model.a.grad = None\n",
    "    model.b.grade = None\n",
    "    error.backward()\n",
    "\n",
    "    with torch.no_grad():\n",
    "        model.a -= lr*model.a.grad\n",
    "        model.b -= lr*model.b.grad\n",
    "\n",
    "    return error.item()\n",
    "\n",
    "def train(model, x, y, lr, num_epoch):\n",
    "    errors = []\n",
    "    for epoch in range(num_epoch):\n",
    "        error = step(model, x, y, lr)\n",
    "        errors.append(error)\n",
    "    return errors\n",
    "\n",
    "data = torch.from_numpy(np.loadtxt('../data/age_data_1.txt'))\n",
    "x, y = data.T\n",
    "\n",
    "\n",
    "model = Model(a=1., b=0.)\n",
    "errors = train(model, x, y, 0.3, 100)\n",
    "plt.plot(errors)"
   ]
  },
  {
   "cell_type": "code",
   "execution_count": null,
   "metadata": {},
   "outputs": [],
   "source": []
  }
 ],
 "metadata": {
  "kernelspec": {
   "display_name": "vc",
   "language": "python",
   "name": "python3"
  },
  "language_info": {
   "codemirror_mode": {
    "name": "ipython",
    "version": 3
   },
   "file_extension": ".py",
   "mimetype": "text/x-python",
   "name": "python",
   "nbconvert_exporter": "python",
   "pygments_lexer": "ipython3",
   "version": "3.12.2"
  }
 },
 "nbformat": 4,
 "nbformat_minor": 2
}
