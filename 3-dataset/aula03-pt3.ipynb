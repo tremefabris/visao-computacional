{
 "cells": [
  {
   "cell_type": "markdown",
   "metadata": {},
   "source": [
    "# Trabalhando com imagens"
   ]
  },
  {
   "cell_type": "code",
   "execution_count": 1,
   "metadata": {},
   "outputs": [
    {
     "name": "stdout",
     "output_type": "stream",
     "text": [
      "<PIL.Image.Image image mode=L size=28x28 at 0x7F5C98FF1850>\n",
      "5\n"
     ]
    }
   ],
   "source": [
    "import random\n",
    "import numpy as np\n",
    "import matplotlib.pyplot as plt\n",
    "import torch\n",
    "from torch.utils.data import Dataset, DataLoader\n",
    "from torchvision import datasets\n",
    "\n",
    "ds_or = datasets.MNIST(\"../dataset/\", train=True, download=True)\n",
    "img, target = ds_or[0]\n",
    "print(img)\n",
    "print(target)"
   ]
  },
  {
   "cell_type": "code",
   "execution_count": 2,
   "metadata": {},
   "outputs": [
    {
     "data": {
      "image/png": "[encoded data removed]",
      "text/plain": [
       "<Figure size 500x400 with 12 Axes>"
      ]
     },
     "metadata": {},
     "output_type": "display_data"
    }
   ],
   "source": [
    "fig, axs = plt.subplots(3, 4, figsize=(5, 4))\n",
    "axs = axs.reshape(-1)\n",
    "for idx in range(len(axs)):\n",
    "    img, target = ds_or[idx]\n",
    "    axs[idx].imshow(img, 'gray')\n",
    "    axs[idx].set_title(target)"
   ]
  },
  {
   "cell_type": "code",
   "execution_count": 3,
   "metadata": {},
   "outputs": [
    {
     "data": {
      "text/plain": [
       "(<PIL.Image.Image image mode=L size=28x28>, 1)"
      ]
     },
     "execution_count": 3,
     "metadata": {},
     "output_type": "execute_result"
    }
   ],
   "source": [
    "class Subset(Dataset):\n",
    "    def __init__(self, ds, indices):\n",
    "        self.ds = ds\n",
    "        self.indices = indices\n",
    "\n",
    "    def __getitem__(self, idx):\n",
    "        return self.ds[self.indices[idx]]\n",
    "    \n",
    "    def __len__(self):\n",
    "        return len(self.indices)\n",
    "    \n",
    "indices = random.sample(range(len(ds_or)), k=1000)\n",
    "ds = Subset(ds_or, indices)\n",
    "ds[0]"
   ]
  },
  {
   "cell_type": "code",
   "execution_count": 4,
   "metadata": {},
   "outputs": [
    {
     "data": {
      "text/plain": [
       "23.070153061224488"
      ]
     },
     "execution_count": 4,
     "metadata": {},
     "output_type": "execute_result"
    }
   ],
   "source": [
    "img, target = ds[0]\n",
    "np.array(img).mean()"
   ]
  },
  {
   "cell_type": "code",
   "execution_count": 5,
   "metadata": {},
   "outputs": [
    {
     "name": "stdout",
     "output_type": "stream",
     "text": [
      "(33.50557908163263, 77.01277727364929)\n"
     ]
    }
   ],
   "source": [
    "def get_statistic(ds):\n",
    "    n = len(ds)\n",
    "    mean = 0.\n",
    "    std = 0.\n",
    "    for img, target in ds:\n",
    "        img_np = np.array(img)\n",
    "        mean += np.mean(img_np)\n",
    "        std += np.std(img_np)\n",
    "    mean /= n\n",
    "    std /= n\n",
    "\n",
    "    return mean, std\n",
    "\n",
    "\n",
    "print(get_statistic(ds))"
   ]
  },
  {
   "cell_type": "code",
   "execution_count": 6,
   "metadata": {},
   "outputs": [
    {
     "name": "stdout",
     "output_type": "stream",
     "text": [
      "tensor(-0.1298) tensor(0.8940)\n"
     ]
    }
   ],
   "source": [
    "def transform(img, mean = 33., std =76.5):\n",
    "\n",
    "    #convertendo PIL->Torch\n",
    "    img = np.array(img, dtype=np.float32)\n",
    "    img = torch.from_numpy(img)\n",
    "\n",
    "    # Normalização\n",
    "    img = (img-mean)/std\n",
    "\n",
    "    # Adiciona a dimensão do canal\n",
    "    img = img.reshape(1, img.shape[0], img.shape[1])\n",
    "\n",
    "    return img\n",
    "\n",
    "img_t = transform(img)\n",
    "print(img_t.mean(), img_t.std())"
   ]
  },
  {
   "cell_type": "code",
   "execution_count": null,
   "metadata": {},
   "outputs": [],
   "source": []
  }
 ],
 "metadata": {
  "kernelspec": {
   "display_name": "vc",
   "language": "python",
   "name": "python3"
  },
  "language_info": {
   "codemirror_mode": {
    "name": "ipython",
    "version": 3
   },
   "file_extension": ".py",
   "mimetype": "text/x-python",
   "name": "python",
   "nbconvert_exporter": "python",
   "pygments_lexer": "ipython3",
   "version": "3.12.2"
  }
 },
 "nbformat": 4,
 "nbformat_minor": 2
}
