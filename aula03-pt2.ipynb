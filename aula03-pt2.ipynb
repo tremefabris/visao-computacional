{
 "cells": [
  {
   "cell_type": "markdown",
   "metadata": {},
   "source": [
    "# Modelo usando pytorch"
   ]
  },
  {
   "cell_type": "code",
   "execution_count": 1,
   "metadata": {},
   "outputs": [],
   "source": [
    "import numpy as np\n",
    "import matplotlib.pyplot as plt\n",
    "import torch"
   ]
  },
  {
   "cell_type": "code",
   "execution_count": 4,
   "metadata": {},
   "outputs": [],
   "source": [
    "data = torch.from_numpy(np.loadtxt('data/age_data_3.txt')).to(torch.float32)\n",
    "inputs, targets = data.T"
   ]
  },
  {
   "cell_type": "markdown",
   "metadata": {},
   "source": [
    "## Camada linear do pytorch"
   ]
  },
  {
   "cell_type": "code",
   "execution_count": 5,
   "metadata": {},
   "outputs": [
    {
     "name": "stdout",
     "output_type": "stream",
     "text": [
      "Parameter containing:\n",
      "tensor([[-0.7690]], requires_grad=True)\n",
      "Parameter containing:\n",
      "tensor([-0.6064], requires_grad=True)\n"
     ]
    }
   ],
   "source": [
    "from torch import nn\n",
    "model = nn.Linear(in_features=1, out_features=1)\n",
    "print(model.weight)\n",
    "print(model.bias)"
   ]
  },
  {
   "cell_type": "markdown",
   "metadata": {},
   "source": [
    "A camada Linear do pytorch espera um tensor com 2 dimensõe: [batch, numero de atributos]"
   ]
  },
  {
   "cell_type": "code",
   "execution_count": 17,
   "metadata": {},
   "outputs": [
    {
     "name": "stdout",
     "output_type": "stream",
     "text": [
      "tensor([[-1.6676],\n",
      "        [-1.5600],\n",
      "        [-1.6061],\n",
      "        [-1.6984],\n",
      "        [-1.6753],\n",
      "        [-1.4523],\n",
      "        [-1.6061],\n",
      "        [-1.5138],\n",
      "        [-1.5215],\n",
      "        [-1.5600]])\n",
      "tensor([[-1.6676],\n",
      "        [-1.5600],\n",
      "        [-1.6061],\n",
      "        [-1.6984],\n",
      "        [-1.6753],\n",
      "        [-1.4523],\n",
      "        [-1.6061],\n",
      "        [-1.5138],\n",
      "        [-1.5215],\n",
      "        [-1.5600]])\n",
      "torch.Size([200, 1])\n",
      "torch.Size([200, 1])\n"
     ]
    }
   ],
   "source": [
    "inputs = inputs.reshape(len(inputs), 1)\n",
    "\n",
    "targets = targets.reshape(len(targets), 1)\n",
    "with torch.no_grad():\n",
    "    scores = model(inputs)\n",
    "    scores_test = model.weight*inputs + model.bias\n",
    "print(scores[:10])\n",
    "print(scores_test[:10])\n",
    "\n",
    "\n",
    "print(inputs.shape)\n",
    "print(targets.shape)"
   ]
  },
  {
   "cell_type": "code",
   "execution_count": 18,
   "metadata": {},
   "outputs": [],
   "source": [
    "def train(model, inputs, targets, lr, num_epochs):\n",
    "    loss_func = nn.BCEWithLogitsLoss()\n",
    "    optim = torch.optim.SGD(model.parameters(), lr=lr)\n",
    "    losses = []\n",
    "\n",
    "    for epoch in range(num_epochs):\n",
    "        optim.zero_grad()\n",
    "        scores = model(inputs)\n",
    "        loss = loss_func(scores, targets)\n",
    "        loss.backward()\n",
    "        optim.step()\n",
    "        losses.append(loss.item())\n",
    "\n",
    "    return losses"
   ]
  },
  {
   "cell_type": "code",
   "execution_count": 19,
   "metadata": {},
   "outputs": [
    {
     "data": {
      "text/plain": [
       "[<matplotlib.lines.Line2D at 0x7f2960bd6210>]"
      ]
     },
     "execution_count": 19,
     "metadata": {},
     "output_type": "execute_result"
    },
    {
     "data": {
      "image/png": "[encoded data removed]",
      "text/plain": [
       "<Figure size 640x480 with 1 Axes>"
      ]
     },
     "metadata": {},
     "output_type": "display_data"
    }
   ],
   "source": [
    "with torch.no_grad():\n",
    "    model.weight[:] = 19.\n",
    "    model.bias[:] = -25.\n",
    "\n",
    "losses = train(model, inputs, targets, lr=0.5, num_epochs=100)\n",
    "plt.plot(losses)"
   ]
  },
  {
   "cell_type": "code",
   "execution_count": null,
   "metadata": {},
   "outputs": [],
   "source": []
  }
 ],
 "metadata": {
  "kernelspec": {
   "display_name": "vc",
   "language": "python",
   "name": "python3"
  },
  "language_info": {
   "codemirror_mode": {
    "name": "ipython",
    "version": 3
   },
   "file_extension": ".py",
   "mimetype": "text/x-python",
   "name": "python",
   "nbconvert_exporter": "python",
   "pygments_lexer": "ipython3",
   "version": "3.12.2"
  }
 },
 "nbformat": 4,
 "nbformat_minor": 2
}
